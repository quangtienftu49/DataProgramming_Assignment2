{
 "cells": [
  {
   "cell_type": "code",
   "execution_count": 15,
   "metadata": {},
   "outputs": [
    {
     "name": "stdout",
     "output_type": "stream",
     "text": [
      "Enter your name: Max\n",
      "Hello  Max\n"
     ]
    }
   ],
   "source": [
    "#Chapter 2, exercise 2:\n",
    "name = input('Enter your name: ')\n",
    "print(\"Hello \", name)"
   ]
  },
  {
   "cell_type": "code",
   "execution_count": 5,
   "metadata": {},
   "outputs": [
    {
     "name": "stdout",
     "output_type": "stream",
     "text": [
      "Enter Hours: 35\n",
      "Enter Rate: 2.75\n",
      "Pay: 96.25\n"
     ]
    }
   ],
   "source": [
    "#Chaper 2, exercise 3:\n",
    "Hours = float(input('Enter Hours: '))\n",
    "Rate = float(input('Enter Rate: '))\n",
    "print('Pay:', Hours*Rate)"
   ]
  },
  {
   "cell_type": "code",
   "execution_count": 6,
   "metadata": {},
   "outputs": [
    {
     "name": "stdout",
     "output_type": "stream",
     "text": [
      "8\n"
     ]
    },
    {
     "data": {
      "text/plain": [
       "int"
      ]
     },
     "execution_count": 6,
     "metadata": {},
     "output_type": "execute_result"
    }
   ],
   "source": [
    "#Chaper 2, exercise 4:\n",
    "width = 17\n",
    "height = 12.0\n",
    "print(width//2)\n",
    "type(width//2)"
   ]
  },
  {
   "cell_type": "code",
   "execution_count": 7,
   "metadata": {},
   "outputs": [
    {
     "name": "stdout",
     "output_type": "stream",
     "text": [
      "8.5\n"
     ]
    },
    {
     "data": {
      "text/plain": [
       "float"
      ]
     },
     "execution_count": 7,
     "metadata": {},
     "output_type": "execute_result"
    }
   ],
   "source": [
    "print(width/2.0)\n",
    "type(width/2.0)"
   ]
  },
  {
   "cell_type": "code",
   "execution_count": 9,
   "metadata": {},
   "outputs": [
    {
     "name": "stdout",
     "output_type": "stream",
     "text": [
      "4.0\n"
     ]
    },
    {
     "data": {
      "text/plain": [
       "float"
      ]
     },
     "execution_count": 9,
     "metadata": {},
     "output_type": "execute_result"
    }
   ],
   "source": [
    "print(height/3)\n",
    "type(height/3)"
   ]
  },
  {
   "cell_type": "code",
   "execution_count": 8,
   "metadata": {},
   "outputs": [
    {
     "name": "stdout",
     "output_type": "stream",
     "text": [
      "11\n"
     ]
    },
    {
     "data": {
      "text/plain": [
       "int"
      ]
     },
     "execution_count": 8,
     "metadata": {},
     "output_type": "execute_result"
    }
   ],
   "source": [
    "print(1 + 2 * 5)\n",
    "type(1 + 2 * 5)"
   ]
  },
  {
   "cell_type": "code",
   "execution_count": 10,
   "metadata": {},
   "outputs": [
    {
     "name": "stdout",
     "output_type": "stream",
     "text": [
      "Input a Celsius temperature: 15\n",
      "The equivalent Fahrenheit temperature is: 59\n"
     ]
    }
   ],
   "source": [
    "#Chaper 2, exercise 5:\n",
    "Celsius = int(input('Input Celsius temperature: '))\n",
    "Fahrenheit = int((Celsius * 9/5) + 32)\n",
    "print('The equivalent Fahrenheit temperature is:',Fahrenheit)"
   ]
  },
  {
   "cell_type": "code",
   "execution_count": 16,
   "metadata": {},
   "outputs": [
    {
     "name": "stdout",
     "output_type": "stream",
     "text": [
      "Enter Hours: 45\n",
      "Enter rate: 10\n",
      "Pay: 475.0\n"
     ]
    }
   ],
   "source": [
    "#Chaper 3, exercise 1:\n",
    "x = float(input('Enter Hours: '))\n",
    "y = float(input('Enter rate: '))\n",
    "if (x <= 40):\n",
    "    print('Pay:', x*y)\n",
    "else:\n",
    "    print('Pay:', 40*y+(x-40)*y*1.5)"
   ]
  },
  {
   "cell_type": "code",
   "execution_count": 17,
   "metadata": {},
   "outputs": [
    {
     "name": "stdout",
     "output_type": "stream",
     "text": [
      "Enter Hours: 50\n",
      "Enter rate: nine\n",
      "Error, please enter numeric input\n"
     ]
    }
   ],
   "source": [
    "#Chaper 3, exercise 2:\n",
    "inp1 = input('Enter Hours: ')\n",
    "try:\n",
    "    x = float(inp1)\n",
    "    inp2 = input('Enter rate: ')\n",
    "    try:\n",
    "        y = float(inp2)\n",
    "        if (x <= 40):\n",
    "            print('Pay:', x*y)\n",
    "        else:\n",
    "            print('Pay:', 40*y+(x-40)*y*1.5)\n",
    "    except:\n",
    "            print('Error, please enter numeric input')\n",
    "except:\n",
    "    print('Error, please enter numeric input')"
   ]
  },
  {
   "cell_type": "code",
   "execution_count": 13,
   "metadata": {},
   "outputs": [
    {
     "name": "stdout",
     "output_type": "stream",
     "text": [
      "Enter score: perfect\n",
      "Bad score\n"
     ]
    }
   ],
   "source": [
    "#Chaper 3, exercise 3:\n",
    "x = input('Enter score: ')\n",
    "try:\n",
    "    y = float(x)\n",
    "    if ( y < 0 or y > 1):\n",
    "        print('Bad score')\n",
    "    else:\n",
    "        if ( y >= 0.9):\n",
    "            print('A')\n",
    "        elif ( y >= 0.8):\n",
    "            print('B')\n",
    "        elif ( y >= 0.7):\n",
    "            print('C')\n",
    "        elif ( y >= 0.6):\n",
    "            print('D')\n",
    "        else:\n",
    "            print('F')\n",
    "except:\n",
    "    print('Bad score')"
   ]
  },
  {
   "cell_type": "code",
   "execution_count": 14,
   "metadata": {},
   "outputs": [
    {
     "name": "stdout",
     "output_type": "stream",
     "text": [
      "ABC\n",
      "Zap\n",
      "ABC\n"
     ]
    }
   ],
   "source": [
    "#Chaper 4, exercise 5:\n",
    "def fred():\n",
    "    print(\"Zap\")\n",
    "\n",
    "def jane():\n",
    "    print(\"ABC\")\n",
    "\n",
    "jane()\n",
    "fred()\n",
    "jane()"
   ]
  },
  {
   "cell_type": "code",
   "execution_count": 19,
   "metadata": {},
   "outputs": [
    {
     "name": "stdout",
     "output_type": "stream",
     "text": [
      "Enter Hours: 45\n",
      "Enter rate: 10\n",
      "Pay: 475.0\n"
     ]
    }
   ],
   "source": [
    "#Chaper 4, exercise 6:\n",
    "a = float(input('Enter Hours: '))\n",
    "b = float(input('Enter rate: '))\n",
    "def computepay(hours, rate):\n",
    "    if (a <= 40):\n",
    "        print('Pay:', a*b)\n",
    "    else:\n",
    "        print('Pay:', 40*b+(a-40)*b*1.5)\n",
    "hours = a\n",
    "rate = b\n",
    "computepay(hours, rate)"
   ]
  },
  {
   "cell_type": "code",
   "execution_count": 20,
   "metadata": {},
   "outputs": [
    {
     "name": "stdout",
     "output_type": "stream",
     "text": [
      "Enter score: 0.6\n",
      "D\n"
     ]
    }
   ],
   "source": [
    "#Chapter 4, exercise 7:\n",
    "m = input('Enter score: ')\n",
    "def computegrade(score):\n",
    "    try:\n",
    "        n = float(m)\n",
    "        if ( n < 0 or n > 1):\n",
    "            print('Bad score')\n",
    "        else:\n",
    "            if ( n >= 0.9):\n",
    "                print('A')\n",
    "            elif ( n >= 0.8):\n",
    "                print('B')\n",
    "            elif ( n >= 0.7):\n",
    "                print('C')\n",
    "            elif ( n >= 0.6):\n",
    "                print('D')\n",
    "            else:\n",
    "                print('F')\n",
    "    except:\n",
    "        print('Bad score')\n",
    "score = m\n",
    "computegrade(score)"
   ]
  },
  {
   "cell_type": "code",
   "execution_count": null,
   "metadata": {},
   "outputs": [],
   "source": []
  }
 ],
 "metadata": {
  "kernelspec": {
   "display_name": "Python 3",
   "language": "python",
   "name": "python3"
  },
  "language_info": {
   "codemirror_mode": {
    "name": "ipython",
    "version": 3
   },
   "file_extension": ".py",
   "mimetype": "text/x-python",
   "name": "python",
   "nbconvert_exporter": "python",
   "pygments_lexer": "ipython3",
   "version": "3.7.0"
  }
 },
 "nbformat": 4,
 "nbformat_minor": 2
}
